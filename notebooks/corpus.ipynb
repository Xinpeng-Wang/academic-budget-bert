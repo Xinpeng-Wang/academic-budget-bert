{
 "cells": [
  {
   "cell_type": "code",
   "execution_count": 7,
   "metadata": {},
   "outputs": [],
   "source": [
    "from datasets import load_dataset\n",
    "import glob"
   ]
  },
  {
   "cell_type": "code",
   "execution_count": 9,
   "metadata": {},
   "outputs": [
    {
     "name": "stderr",
     "output_type": "stream",
     "text": [
      "Reusing dataset bookcorpusopen (/mounts/data/proj/xinpeng/huggingface/bookcorpusopen/bookcorpusopen/plain_text/1.0.0/315212253d9dae197e415587bddcc7d4650ba6eed7088a0185bc9bd5319de3ad)\n"
     ]
    }
   ],
   "source": [
    "book_dataset = load_dataset('bookcorpusopen', split=\"train\", cache_dir='/mounts/data/proj/xinpeng/huggingface/bookcorpusopen')"
   ]
  },
  {
   "cell_type": "code",
   "execution_count": null,
   "metadata": {},
   "outputs": [],
   "source": [
    "book_dataset[0]"
   ]
  },
  {
   "cell_type": "code",
   "execution_count": 6,
   "metadata": {},
   "outputs": [],
   "source": [
    "class BookscorpusTextFormatting:\n",
    "    def __init__(self, books_path, output_filename, recursive=False):\n",
    "        self.books_path = books_path\n",
    "        self.recursive = recursive\n",
    "        self.output_filename = output_filename\n",
    "\n",
    "    # This puts one book per line\n",
    "    def merge(self):\n",
    "        with open(self.output_filename, mode=\"w\", newline=\"\\n\") as ofile:\n",
    "            for filename in glob.glob(self.books_path + \"/\" + \"*.txt\", recursive=True):\n",
    "                with open(filename, mode=\"r\", encoding=\"utf-8-sig\", newline=\"\\n\") as file:\n",
    "                    for line in file:\n",
    "                        if line.strip() != \"\":\n",
    "                            ofile.write(line.strip() + \" \")\n",
    "                ofile.write(\"\\n\\n\")"
   ]
  },
  {
   "cell_type": "code",
   "execution_count": 8,
   "metadata": {},
   "outputs": [],
   "source": [
    "### creat a book toy ####\n",
    "book_toy_path = '/mounts/data/proj/xinpeng/toy/book_1.txt'"
   ]
  },
  {
   "cell_type": "code",
   "execution_count": 12,
   "metadata": {},
   "outputs": [],
   "source": [
    "### write huggingface book corpus to book toy ###\n",
    "with open (book_toy_path, 'w+', newline='\\n') as f:\n",
    "    for idx, i in enumerate(book_dataset):\n",
    "        doc_raw = i['text']\n",
    "        f.write(doc_raw)\n",
    "        if idx == 100:\n",
    "            break"
   ]
  },
  {
   "cell_type": "code",
   "execution_count": 16,
   "metadata": {},
   "outputs": [
    {
     "name": "stdout",
     "output_type": "stream",
     "text": [
      " \n",
      "\n"
     ]
    }
   ],
   "source": [
    "book_toy_wrapper = open(book_toy_path, mode='r', newline='\\n')\n",
    "for i in book_toy_wrapper:\n",
    "    print(i)\n",
    "    break\n",
    "book_toy_wrapper.close()"
   ]
  },
  {
   "cell_type": "code",
   "execution_count": 2,
   "metadata": {},
   "outputs": [],
   "source": [
    "book_budget = '/mounts/data/proj/xinpeng/budget/bookcorpus_one_article_per_line.txt'\n",
    "with open(book_budget, 'r') as f:\n",
    "    a=f.readline()"
   ]
  },
  {
   "cell_type": "code",
   "execution_count": null,
   "metadata": {},
   "outputs": [],
   "source": [
    "a"
   ]
  },
  {
   "cell_type": "code",
   "execution_count": null,
   "metadata": {},
   "outputs": [],
   "source": []
  }
 ],
 "metadata": {
  "kernelspec": {
   "display_name": "Python 3.7.13 ('hf')",
   "language": "python",
   "name": "python3"
  },
  "language_info": {
   "codemirror_mode": {
    "name": "ipython",
    "version": 3
   },
   "file_extension": ".py",
   "mimetype": "text/x-python",
   "name": "python",
   "nbconvert_exporter": "python",
   "pygments_lexer": "ipython3",
   "version": "3.7.13"
  },
  "orig_nbformat": 4,
  "vscode": {
   "interpreter": {
    "hash": "80c5c5db266607d58e76de103f579d7c35e1a7723d50f0a4c55635feea94ecf1"
   }
  }
 },
 "nbformat": 4,
 "nbformat_minor": 2
}
